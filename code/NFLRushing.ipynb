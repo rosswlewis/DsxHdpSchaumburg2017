{
 "cells": [
  {
   "cell_type": "code",
   "execution_count": 1,
   "metadata": {
    "collapsed": true
   },
   "outputs": [],
   "source": [
    "# @hidden_cell\n",
    "# The project token is an authorization token that is used to access project resources like data sources, connections, and used by platform APIs.\n",
    "from projectnb import ProjectContext, ProjectUtil\n",
    "pc = ProjectContext.ProjectContext(sc, 'd10b8cd6-7023-414e-8a9f-39d168e46181', 'p-18797feb3787c5fcfe7f09cc1935c08ab41c7cc1')"
   ]
  },
  {
   "cell_type": "code",
   "execution_count": 3,
   "metadata": {
    "collapsed": false
   },
   "outputs": [
    {
     "data": {
      "text/plain": [
       "[Row(name=u'C.Newton', playerid=u'00-0027939', position=u'QB', rushing_att=7, rushing_yds=43, rushing_tds=0, receiving_yds=0, home=True, teamid=u'CAR', team=u'Carolina Panthers', teamloc=u'Carolina', stadium_city=u'Bank of America Stadium', capacity=u'75,419', surface=u'Voyager Bermuda Grass', roof=u'Open', home_score=30, home_team=u'CAR', away_score=20, away_team=u'ARI', gameid=2016103009, week=8, year=2016, month=10, day=30, time=u'4:25', ampm=u'PM', weather=u'80,80,8,None,80,55,29.31,10', temp=80, hi=80, wspd=8, precip_total=None, feels_like=80, dewPt=55, pressure=29, vis=10),\n",
       " Row(name=u'J.Stewart', playerid=u'00-0026153', position=u'RB', rushing_att=25, rushing_yds=95, rushing_tds=2, receiving_yds=25, home=True, teamid=u'CAR', team=u'Carolina Panthers', teamloc=u'Carolina', stadium_city=u'Bank of America Stadium', capacity=u'75,419', surface=u'Voyager Bermuda Grass', roof=u'Open', home_score=30, home_team=u'CAR', away_score=20, away_team=u'ARI', gameid=2016103009, week=8, year=2016, month=10, day=30, time=u'4:25', ampm=u'PM', weather=u'80,80,8,None,80,55,29.31,10', temp=80, hi=80, wspd=8, precip_total=None, feels_like=80, dewPt=55, pressure=29, vis=10)]"
      ]
     },
     "execution_count": 3,
     "metadata": {},
     "output_type": "execute_result"
    }
   ],
   "source": [
    "# Access 'rbweather_filtered.csv' data file from the project.\n",
    "df = ProjectUtil.load_dataframe_from_file(pc, \"rbweather_filtered.csv\")\n",
    "df.take(2)"
   ]
  },
  {
   "cell_type": "code",
   "execution_count": 4,
   "metadata": {
    "collapsed": false
   },
   "outputs": [
    {
     "data": {
      "text/plain": [
       "4435"
      ]
     },
     "execution_count": 4,
     "metadata": {},
     "output_type": "execute_result"
    }
   ],
   "source": [
    "df.count()"
   ]
  },
  {
   "cell_type": "code",
   "execution_count": 5,
   "metadata": {
    "collapsed": true
   },
   "outputs": [],
   "source": [
    "df = df.where(\"not temp is Null\")"
   ]
  },
  {
   "cell_type": "code",
   "execution_count": 6,
   "metadata": {
    "collapsed": true
   },
   "outputs": [],
   "source": [
    "df = df.withColumn('ishome', df['home'].cast('integer'))"
   ]
  },
  {
   "cell_type": "code",
   "execution_count": 7,
   "metadata": {
    "collapsed": true
   },
   "outputs": [],
   "source": [
    "df.groupBy(\"position\").count().where('count < 10').createOrReplaceTempView(\"lowPosCount\")"
   ]
  },
  {
   "cell_type": "code",
   "execution_count": 8,
   "metadata": {
    "collapsed": true
   },
   "outputs": [],
   "source": [
    "df.groupBy(\"name\").count().where('count < 10').createOrReplaceTempView(\"lowNameCount\")"
   ]
  },
  {
   "cell_type": "code",
   "execution_count": 9,
   "metadata": {
    "collapsed": true
   },
   "outputs": [],
   "source": [
    "df.createOrReplaceTempView(\"allRows\")"
   ]
  },
  {
   "cell_type": "code",
   "execution_count": 16,
   "metadata": {
    "collapsed": false
   },
   "outputs": [],
   "source": [
    "from pyspark.sql import SparkSession\n",
    "spark = SparkSession.builder.getOrCreate()\n",
    "morePlayers = spark.sql(\"\"\"select * from allRows where \n",
    "                                            name not in (select name from lowNameCount) and\n",
    "                                            position not in (select position from lowPosCount)\"\"\")"
   ]
  },
  {
   "cell_type": "code",
   "execution_count": null,
   "metadata": {
    "collapsed": true
   },
   "outputs": [],
   "source": [
    "#features temp wspd roof surface home stadium_city away_team name position teamid\n",
    "#label rushing_yds"
   ]
  },
  {
   "cell_type": "code",
   "execution_count": 20,
   "metadata": {
    "collapsed": true
   },
   "outputs": [],
   "source": [
    "from pyspark.ml.feature import StringIndexer\n",
    "\n",
    "nameInd = StringIndexer(inputCol=\"name\", outputCol=\"nameInd\")\n",
    "posInd = StringIndexer(inputCol=\"position\", outputCol=\"posInd\")\n",
    "roofInd = StringIndexer(inputCol=\"roof\", outputCol=\"roofInd\")\n",
    "surfInd = StringIndexer(inputCol=\"surface\", outputCol=\"surfInd\")\n",
    "stadInd = StringIndexer(inputCol=\"stadium_city\", outputCol=\"stadInd\")\n",
    "teamInd = StringIndexer(inputCol=\"teamid\", outputCol=\"teamInd\")\n",
    "oppInd = StringIndexer(inputCol=\"away_team\", outputCol=\"oppInd\")"
   ]
  },
  {
   "cell_type": "code",
   "execution_count": 21,
   "metadata": {
    "collapsed": true
   },
   "outputs": [],
   "source": [
    "from pyspark.ml.feature import OneHotEncoder\n",
    "\n",
    "nameEnc = OneHotEncoder(inputCol=\"nameInd\", outputCol=\"nameEnc\")\n",
    "posEnc = OneHotEncoder(inputCol=\"posInd\", outputCol=\"posEnc\")\n",
    "roofEnc = OneHotEncoder(inputCol=\"roofInd\", outputCol=\"roofEnc\")\n",
    "surfEnc = OneHotEncoder(inputCol=\"surfInd\", outputCol=\"surfEnc\")\n",
    "stadEnc = OneHotEncoder(inputCol=\"stadInd\", outputCol=\"stadEnc\")\n",
    "teamEnc = OneHotEncoder(inputCol=\"teamInd\", outputCol=\"teamEnc\")\n",
    "oppEnc = OneHotEncoder(inputCol=\"oppInd\", outputCol=\"oppEnc\")"
   ]
  },
  {
   "cell_type": "code",
   "execution_count": 17,
   "metadata": {
    "collapsed": true
   },
   "outputs": [],
   "source": [
    "from pyspark.ml.linalg import Vectors\n",
    "from pyspark.ml.feature import VectorAssembler\n",
    "\n",
    "vecAss = VectorAssembler(\n",
    "    inputCols=[\"nameEnc\", \"posEnc\", \"roofEnc\", \"surfEnc\", \"stadEnc\", \"temp\", \"wspd\", \"ishome\", \"teamEnc\", \"oppEnc\"],\n",
    "    outputCol=\"features\")"
   ]
  },
  {
   "cell_type": "code",
   "execution_count": 18,
   "metadata": {
    "collapsed": true
   },
   "outputs": [],
   "source": [
    "from pyspark.ml.regression import RandomForestRegressor\n",
    "\n",
    "rf = RandomForestRegressor(featuresCol=\"features\",labelCol=\"rushing_yds\")"
   ]
  },
  {
   "cell_type": "code",
   "execution_count": 22,
   "metadata": {
    "collapsed": false
   },
   "outputs": [],
   "source": [
    "from pyspark.ml import Pipeline\n",
    "\n",
    "pipeline = Pipeline(stages=[nameInd,nameEnc,posInd,posEnc,roofInd,roofEnc,surfInd,surfEnc,\n",
    "                           stadInd,stadEnc,teamInd,teamEnc,oppInd,oppEnc,vecAss,rf])"
   ]
  },
  {
   "cell_type": "code",
   "execution_count": 17,
   "metadata": {
    "collapsed": false
   },
   "outputs": [
    {
     "name": "stdout",
     "output_type": "stream",
     "text": [
      "2017-08-30 16:27:50.974257\n",
      "2017-08-30 18:32:24.184197\n"
     ]
    }
   ],
   "source": [
    "from pyspark.ml.tuning import CrossValidator, ParamGridBuilder\n",
    "from pyspark.ml.evaluation import RegressionEvaluator\n",
    "import datetime\n",
    "\n",
    "paramGrid = ParamGridBuilder() \\\n",
    "    .addGrid(rf.maxBins, [40,60,80])\\\n",
    "    .addGrid(rf.maxDepth, [16,20,25])\\\n",
    "    .addGrid(rf.numTrees, [80,100,120])\\\n",
    "    .build()\n",
    "    \n",
    "evaluator = RegressionEvaluator(labelCol=\"rushing_yds\", predictionCol=\"prediction\", metricName=\"rmse\")\n",
    "\n",
    "crossval = CrossValidator(estimator=pipeline,\n",
    "                          estimatorParamMaps=paramGrid,\n",
    "                          evaluator=evaluator,\n",
    "                          numFolds=5)\n",
    "\n",
    "print datetime.datetime.now()\n",
    "cvModel = crossval.fit(morePlayers)\n",
    "print datetime.datetime.now()"
   ]
  },
  {
   "cell_type": "code",
   "execution_count": 18,
   "metadata": {
    "collapsed": false
   },
   "outputs": [
    {
     "name": "stdout",
     "output_type": "stream",
     "text": [
      "Root Mean Squared Error (RMSE) on test data = 22.527\n"
     ]
    }
   ],
   "source": [
    "rmse = evaluator.evaluate(cvModel.bestModel.transform(morePlayers))\n",
    "print(\"Root Mean Squared Error (RMSE) on test data = %g\" % rmse)\n",
    "#28.8953"
   ]
  },
  {
   "cell_type": "code",
   "execution_count": 19,
   "metadata": {
    "collapsed": false,
    "scrolled": false
   },
   "outputs": [
    {
     "name": "stdout",
     "output_type": "stream",
     "text": [
      "60\n",
      "25\n",
      "80\n"
     ]
    }
   ],
   "source": [
    "print cvModel.bestModel.stages[-1]._java_obj.getMaxBins()#60!\n",
    "print cvModel.bestModel.stages[-1]._java_obj.getMaxDepth()#25-->\n",
    "print cvModel.bestModel.stages[-1]._java_obj.getNumTrees()#<--80"
   ]
  },
  {
   "cell_type": "code",
   "execution_count": 23,
   "metadata": {
    "collapsed": true
   },
   "outputs": [],
   "source": [
    "#features temp wspd roof surface home stadium_city away_team name position teamid\n",
    "#label rushing_yds\n",
    "df = df.select('temp','wspd','roof','surface','ishome','stadium_city','away_team','name','position','teamid','rushing_yds')"
   ]
  },
  {
   "cell_type": "code",
   "execution_count": 66,
   "metadata": {
    "collapsed": false
   },
   "outputs": [
    {
     "name": "stdout",
     "output_type": "stream",
     "text": [
      "root\n",
      " |-- temp: integer (nullable = true)\n",
      " |-- wspd: integer (nullable = true)\n",
      " |-- roof: string (nullable = true)\n",
      " |-- surface: string (nullable = true)\n",
      " |-- ishome: integer (nullable = true)\n",
      " |-- stadium_city: string (nullable = true)\n",
      " |-- away_team: string (nullable = true)\n",
      " |-- name: string (nullable = true)\n",
      " |-- position: string (nullable = true)\n",
      " |-- teamid: string (nullable = true)\n",
      " |-- rushing_yds: integer (nullable = true)\n",
      "\n"
     ]
    }
   ],
   "source": [
    "df.printSchema()"
   ]
  },
  {
   "cell_type": "code",
   "execution_count": 24,
   "metadata": {
    "collapsed": true
   },
   "outputs": [],
   "source": [
    "from pyspark.ml.regression import RandomForestRegressor\n",
    "from pyspark.ml import Pipeline\n",
    "\n",
    "rf = RandomForestRegressor(featuresCol=\"features\",labelCol=\"rushing_yds\",maxBins=60,maxDepth=25,numTrees=80)\n",
    "pipeline = Pipeline(stages=[nameInd,nameEnc,posInd,posEnc,roofInd,roofEnc,surfInd,surfEnc,\n",
    "                           stadInd,stadEnc,teamInd,teamEnc,oppInd,oppEnc,vecAss,rf])\n",
    "\n",
    "model = pipeline.fit(df)"
   ]
  },
  {
   "cell_type": "code",
   "execution_count": 25,
   "metadata": {
    "collapsed": false
   },
   "outputs": [
    {
     "data": {
      "text/plain": [
       "[Row(rushing_yds=43, prediction=35.29881331699347),\n",
       " Row(rushing_yds=95, prediction=73.93927505216902),\n",
       " Row(rushing_yds=2, prediction=5.734204333043673),\n",
       " Row(rushing_yds=1, prediction=29.297084212238115),\n",
       " Row(rushing_yds=43, prediction=34.98976840357355),\n",
       " Row(rushing_yds=46, prediction=49.27254255597158),\n",
       " Row(rushing_yds=37, prediction=32.93142857142857),\n",
       " Row(rushing_yds=9, prediction=30.32950617310642),\n",
       " Row(rushing_yds=5, prediction=6.005865968084333),\n",
       " Row(rushing_yds=25, prediction=14.34627268905398)]"
      ]
     },
     "execution_count": 25,
     "metadata": {},
     "output_type": "execute_result"
    }
   ],
   "source": [
    "predictions = model.transform(df)\n",
    "predictions.select(\"rushing_yds\",\"prediction\").take(10)"
   ]
  },
  {
   "cell_type": "code",
   "execution_count": 29,
   "metadata": {
    "collapsed": false
   },
   "outputs": [],
   "source": [
    "from repository.mlrepositoryclient import MLRepositoryClient\n",
    "from repository.mlrepositoryartifact import MLRepositoryArtifact\n",
    "\n",
    "ml_repository_client = MLRepositoryClient()\n",
    "model_artifact = MLRepositoryArtifact(model, training_data=df, name=\"Rushing Yards Prediction Model\")\n",
    "\n",
    "saved_model = ml_repository_client.models.save(model_artifact)"
   ]
  },
  {
   "cell_type": "code",
   "execution_count": 30,
   "metadata": {
    "collapsed": false
   },
   "outputs": [
    {
     "name": "stdout",
     "output_type": "stream",
     "text": [
      "['inputDataSchema', 'evaluationMetrics', 'pipelineVersionHref', 'modelVersionHref', 'trainingDataRef', 'pipelineType', 'creationTime', 'lastUpdated', 'label', 'authorEmail', 'trainingDataSchema', 'authorName', 'version', 'modelType', 'runtime', 'evaluationMethod']\n",
      "\n",
      "modelType: sparkml-model-2.0\n",
      "trainingDataSchema: {u'fields': [{u'nullable': True, u'type': u'integer', u'name': u'temp', u'metadata': {}}, {u'nullable': True, u'type': u'integer', u'name': u'wspd', u'metadata': {}}, {u'nullable': True, u'type': u'string', u'name': u'roof', u'metadata': {}}, {u'nullable': True, u'type': u'string', u'name': u'surface', u'metadata': {}}, {u'nullable': True, u'type': u'integer', u'name': u'ishome', u'metadata': {}}, {u'nullable': True, u'type': u'string', u'name': u'stadium_city', u'metadata': {}}, {u'nullable': True, u'type': u'string', u'name': u'away_team', u'metadata': {}}, {u'nullable': True, u'type': u'string', u'name': u'name', u'metadata': {}}, {u'nullable': True, u'type': u'string', u'name': u'position', u'metadata': {}}, {u'nullable': True, u'type': u'string', u'name': u'teamid', u'metadata': {}}, {u'nullable': True, u'type': u'integer', u'name': u'rushing_yds', u'metadata': {}}], u'type': u'struct'}\n",
      "creationTime: 2017-09-06 20:13:14.373000+00:00\n",
      "modelVersionHref: https://internal-nginx-svc.ibm-private-cloud.svc.cluster.local:12443/v2/artifacts/models/164e74d7-a829-40a0-9791-333cbd8e59f6/versions/e4379816-c9b3-4ea8-8d00-67418ca9e896\n",
      "label: rushing_yds\n"
     ]
    }
   ],
   "source": [
    "print saved_model.meta.available_props()\n",
    "print\n",
    "print \"modelType: \" + saved_model.meta.prop(\"modelType\")\n",
    "print \"trainingDataSchema: \" + str(saved_model.meta.prop(\"trainingDataSchema\"))\n",
    "print \"creationTime: \" + str(saved_model.meta.prop(\"creationTime\"))\n",
    "print \"modelVersionHref: \" + saved_model.meta.prop(\"modelVersionHref\")\n",
    "print \"label: \" + saved_model.meta.prop(\"label\")"
   ]
  },
  {
   "cell_type": "code",
   "execution_count": 31,
   "metadata": {
    "collapsed": false
   },
   "outputs": [
    {
     "name": "stdout",
     "output_type": "stream",
     "text": [
      "Rushing Yards Prediction Model\n"
     ]
    }
   ],
   "source": [
    "loadedModelArtifact = ml_repository_client.models.get(saved_model.uid)\n",
    "\n",
    "print str(loadedModelArtifact.name)"
   ]
  },
  {
   "cell_type": "code",
   "execution_count": 47,
   "metadata": {
    "collapsed": false
   },
   "outputs": [
    {
     "name": "stdout",
     "output_type": "stream",
     "text": [
      "<Response [200]>\n",
      "{\"resources\":[{\"metadata\":{\"guid\":\"79a22c1b-8d60-4e6a-bd4b-59a760f8716d\",\"href\":\"https://internal-nginx-svc.ibm-private-cloud.svc.cluster.local:12443/v2/deployments/79a22c1b-8d60-4e6a-bd4b-59a760f8716d\",\"createdAt\":\"2017-09-06T20:46:46.155Z\"},\"entity\":{\"name\":\"Rushing\",\"artifactVersion\":{\"guid\":\"e4379816-c9b3-4ea8-8d00-67418ca9e896\",\"href\":\"https://internal-nginx-svc.ibm-private-cloud.svc.cluster.local:12443/v2/artifacts/models/164e74d7-a829-40a0-9791-333cbd8e59f6/versions/e4379816-c9b3-4ea8-8d00-67418ca9e896\"},\"predictionEndpoints\":{\"online\":\"https://internal-nginx-svc.ibm-private-cloud.svc.cluster.local:12443/v2/scoring/online/79a22c1b-8d60-4e6a-bd4b-59a760f8716d\",\"stream\":\"https://internal-nginx-svc.ibm-private-cloud.svc.cluster.local:12443/v2/deployments/79a22c1b-8d60-4e6a-bd4b-59a760f8716d/streams\",\"batch\":\"https://internal-nginx-svc.ibm-private-cloud.svc.cluster.local:12443/v2/deployments/79a22c1b-8d60-4e6a-bd4b-59a760f8716d/batch_jobs\"},\"modelType\":\"sparkml-model-2.0\",\"runtimeEnvironment\":\"spark-2.0\"}}]}\n"
     ]
    }
   ],
   "source": [
    "service_path = \"https://internal-nginx-svc.ibm-private-cloud.svc.cluster.local:12443\"\n",
    "online_path = service_path + \"/v2/deployments\"\n",
    "\n",
    "response = requests.get(online_path)\n",
    "\n",
    "print (response)\n",
    "print response.text"
   ]
  },
  {
   "cell_type": "code",
   "execution_count": 80,
   "metadata": {
    "collapsed": false
   },
   "outputs": [
    {
     "name": "stdout",
     "output_type": "stream",
     "text": [
      "{\"resources\":[{\"metadata\":{\"guid\":\"79a22c1b-8d60-4e6a-bd4b-59a760f8716d\",\"href\":\"https://internal-nginx-svc.ibm-private-cloud.svc.cluster.local:12443/v2/deployments/79a22c1b-8d60-4e6a-bd4b-59a760f8716d\",\"createdAt\":\"2017-09-06T20:46:46.155Z\"},\"entity\":{\"name\":\"Rushing\",\"artifactVersion\":{\"guid\":\"e4379816-c9b3-4ea8-8d00-67418ca9e896\",\"href\":\"https://internal-nginx-svc.ibm-private-cloud.svc.cluster.local:12443/v2/artifacts/models/164e74d7-a829-40a0-9791-333cbd8e59f6/versions/e4379816-c9b3-4ea8-8d00-67418ca9e896\"},\"predictionEndpoints\":{\"online\":\"https://internal-nginx-svc.ibm-private-cloud.svc.cluster.local:12443/v2/scoring/online/79a22c1b-8d60-4e6a-bd4b-59a760f8716d\",\"stream\":\"https://internal-nginx-svc.ibm-private-cloud.svc.cluster.local:12443/v2/deployments/79a22c1b-8d60-4e6a-bd4b-59a760f8716d/streams\",\"batch\":\"https://internal-nginx-svc.ibm-private-cloud.svc.cluster.local:12443/v2/deployments/79a22c1b-8d60-4e6a-bd4b-59a760f8716d/batch_jobs\"},\"modelType\":\"sparkml-model-2.0\",\"runtimeEnvironment\":\"spark-2.0\"}}]}\n",
      "{\"code\":\"WMLDT0011E\",\"message\":\"Parsing failure: Object is missing required member 'name'.\"}\n"
     ]
    }
   ],
   "source": [
    "import requests\n",
    "\n",
    "#scoring_url = 'https://internal-nginx-svc.ibm-private-cloud.svc.cluster.local:12443/v2/artifacts/models/164e74d7-a829-40a0-9791-333cbd8e59f6/versions/e4379816-c9b3-4ea8-8d00-67418ca9e896'\n",
    "#scoring_url = 'https://169.60.7.74:12443/v2/artifacts/models/164e74d7-a829-40a0-9791-333cbd8e59f6/versions/e4379816-c9b3-4ea8-8d00-67418ca9e896'\n",
    "#scoring_url = 'https://internal-nginx-svc.ibm-private-cloud.svc.cluster.local:12443/v2/scoring/online/79a22c1b-8d60-4e6a-bd4b-59a760f8716d'\n",
    "#scoring_url = 'https://169.60.7.74:12443/v2/identity/token/scoring/online/79a22c1b-8d60-4e6a-bd4b-59a760f8716d'\n",
    "service_path = \"https://internal-nginx-svc.ibm-private-cloud.svc.cluster.local:12443\"\n",
    "scoring_url = service_path + \"/v2/deployments\"\n",
    "\n",
    "#payload_scoring = {\"fields\": ['temp','wspd','roof','surface','home','stadium_city','away_team','name','position','teamid'],\n",
    "#                    \"values\": [[60,10,\"Open\",\"Voyager Bermuda Grass\",True,'Bank of America Stadium','ARI','J.Stewart','QB','CAR']]}\n",
    "payload_scoring = {'fields': ['temp','wspd','roof','surface','ishome','stadium_city','away_team','name','position','teamid'],\n",
    "                    'records': [[60,10,'Open','Voyager Bermuda Grass',1,'Bank of America Stadium','ARI','J.Stewart','QB','CAR']]}\n",
    "\n",
    "\n",
    "import urllib3, requests, json\n",
    "\n",
    "#service_path = 'https://internal-nginx-svc.ibm-private-cloud.svc.cluster.local:12443'\n",
    "#instance_id = 'e43f71e5-f451-4b26-8476-2c42e336d67e'\n",
    "#username = '7efdfbec-da70-43cf-b4ce-3332be17d48d'\n",
    "#password = '37e5c543-837f-4f90-a854-1a388b62b27d'\n",
    "\n",
    "#headers = urllib3.util.make_headers(basic_auth='{}:{}'.format(\"username\", \"password\"))\n",
    "#url = '{}/v2/identity/token'.format(service_path)\n",
    "\n",
    "#response = requests.get(scoring_url, headers=headers)\n",
    "response = requests.get(scoring_url)\n",
    "print response.text\n",
    "#mltoken = json.loads(response.text).get('token')\n",
    "\n",
    "#print mltoken\n",
    "header = {'Content-Type': 'application/json',\"name\":\"Rushing\"}#, 'Authorization': 'Bearer ' + mltoken}\n",
    "\n",
    "response_scoring = requests.post(scoring_url, json=payload_scoring, headers=header)\n",
    "\n",
    "print response_scoring.text"
   ]
  },
  {
   "cell_type": "code",
   "execution_count": 82,
   "metadata": {
    "collapsed": false
   },
   "outputs": [
    {
     "name": "stdout",
     "output_type": "stream",
     "text": [
      "{\n",
      "  \"fields\": [\"temp\", \"wspd\", \"roof\", \"surface\", \"ishome\", \"stadium_city\", \"away_team\", \"name\", \"position\", \"teamid\", \"nameInd\", \"nameEnc\", \"posInd\", \"posEnc\", \"roofInd\", \"roofEnc\", \"surfInd\", \"surfEnc\", \"stadInd\", \"stadEnc\", \"teamInd\", \"teamEnc\", \"oppInd\", \"oppEnc\", \"features\", \"prediction\"],\n",
      "  \"records\": [[60, 10, \"Open\", \"Voyager Bermuda Grass\", 1, \"Bank of America Stadium\", \"ARI\", \"J.Stewart\", \"QB\", \"CAR\", 22.0, [0.0, 0.0, 0.0, 0.0, 0.0, 0.0, 0.0, 0.0, 0.0, 0.0, 0.0, 0.0, 0.0, 0.0, 0.0, 0.0, 0.0, 0.0, 0.0, 0.0, 0.0, 0.0, 1.0, 0.0, 0.0, 0.0, 0.0, 0.0, 0.0, 0.0, 0.0, 0.0, 0.0, 0.0, 0.0, 0.0, 0.0, 0.0, 0.0, 0.0, 0.0, 0.0, 0.0, 0.0, 0.0, 0.0, 0.0, 0.0, 0.0, 0.0, 0.0, 0.0, 0.0, 0.0, 0.0, 0.0, 0.0, 0.0, 0.0, 0.0, 0.0, 0.0, 0.0, 0.0, 0.0, 0.0, 0.0, 0.0, 0.0, 0.0, 0.0, 0.0, 0.0, 0.0, 0.0, 0.0, 0.0, 0.0, 0.0, 0.0, 0.0, 0.0, 0.0, 0.0, 0.0, 0.0, 0.0, 0.0, 0.0, 0.0, 0.0, 0.0, 0.0, 0.0, 0.0, 0.0, 0.0, 0.0, 0.0, 0.0, 0.0, 0.0, 0.0, 0.0, 0.0, 0.0, 0.0, 0.0, 0.0, 0.0, 0.0, 0.0, 0.0, 0.0, 0.0, 0.0, 0.0, 0.0, 0.0, 0.0, 0.0, 0.0, 0.0, 0.0, 0.0, 0.0, 0.0, 0.0, 0.0, 0.0, 0.0, 0.0, 0.0, 0.0, 0.0, 0.0, 0.0, 0.0, 0.0, 0.0, 0.0, 0.0, 0.0, 0.0, 0.0, 0.0, 0.0, 0.0, 0.0, 0.0, 0.0, 0.0, 0.0, 0.0, 0.0, 0.0, 0.0, 0.0, 0.0, 0.0, 0.0, 0.0, 0.0, 0.0, 0.0, 0.0, 0.0, 0.0, 0.0, 0.0, 0.0, 0.0, 0.0, 0.0, 0.0, 0.0, 0.0, 0.0, 0.0, 0.0, 0.0, 0.0, 0.0, 0.0, 0.0, 0.0, 0.0, 0.0, 0.0, 0.0, 0.0, 0.0, 0.0, 0.0, 0.0, 0.0, 0.0, 0.0, 0.0, 0.0, 0.0, 0.0, 0.0, 0.0, 0.0, 0.0, 0.0, 0.0, 0.0, 0.0, 0.0, 0.0, 0.0, 0.0, 0.0, 0.0, 0.0, 0.0, 0.0, 0.0, 0.0, 0.0, 0.0, 0.0, 0.0, 0.0, 0.0, 0.0, 0.0, 0.0, 0.0, 0.0, 0.0, 0.0, 0.0, 0.0, 0.0, 0.0, 0.0, 0.0, 0.0, 0.0, 0.0, 0.0, 0.0, 0.0, 0.0, 0.0, 0.0, 0.0, 0.0, 0.0, 0.0, 0.0, 0.0, 0.0, 0.0, 0.0, 0.0, 0.0, 0.0, 0.0, 0.0, 0.0, 0.0, 0.0, 0.0, 0.0, 0.0, 0.0, 0.0, 0.0, 0.0, 0.0, 0.0, 0.0, 0.0, 0.0, 0.0, 0.0, 0.0, 0.0, 0.0, 0.0, 0.0, 0.0, 0.0, 0.0, 0.0, 0.0, 0.0, 0.0, 0.0, 0.0, 0.0, 0.0, 0.0, 0.0, 0.0, 0.0, 0.0, 0.0, 0.0, 0.0, 0.0, 0.0, 0.0, 0.0, 0.0, 0.0, 0.0, 0.0, 0.0, 0.0, 0.0, 0.0, 0.0, 0.0, 0.0, 0.0, 0.0, 0.0, 0.0, 0.0, 0.0, 0.0, 0.0, 0.0, 0.0, 0.0, 0.0, 0.0, 0.0, 0.0, 0.0, 0.0, 0.0, 0.0, 0.0, 0.0, 0.0, 0.0, 0.0, 0.0, 0.0, 0.0, 0.0, 0.0, 0.0, 0.0, 0.0, 0.0, 0.0, 0.0, 0.0, 0.0, 0.0, 0.0, 0.0, 0.0, 0.0, 0.0, 0.0, 0.0, 0.0, 0.0, 0.0, 0.0, 0.0, 0.0, 0.0, 0.0, 0.0, 0.0, 0.0, 0.0, 0.0, 0.0, 0.0, 0.0, 0.0], 1.0, [0.0, 1.0, 0.0, 0.0, 0.0, 0.0, 0.0, 0.0, 0.0, 0.0, 0.0, 0.0, 0.0], 0.0, [1.0, 0.0], 9.0, [0.0, 0.0, 0.0, 0.0, 0.0, 0.0, 0.0, 0.0, 0.0, 1.0, 0.0, 0.0, 0.0, 0.0, 0.0, 0.0], 2.0, [0.0, 0.0, 1.0, 0.0, 0.0, 0.0, 0.0, 0.0, 0.0, 0.0, 0.0, 0.0, 0.0, 0.0, 0.0, 0.0, 0.0, 0.0, 0.0, 0.0, 0.0, 0.0, 0.0, 0.0, 0.0, 0.0, 0.0, 0.0], 2.0, [0.0, 0.0, 1.0, 0.0, 0.0, 0.0, 0.0, 0.0, 0.0, 0.0, 0.0, 0.0, 0.0, 0.0, 0.0, 0.0, 0.0, 0.0, 0.0, 0.0, 0.0, 0.0, 0.0, 0.0, 0.0, 0.0, 0.0, 0.0, 0.0], 4.0, [0.0, 0.0, 0.0, 0.0, 1.0, 0.0, 0.0, 0.0, 0.0, 0.0, 0.0, 0.0, 0.0, 0.0, 0.0, 0.0, 0.0, 0.0, 0.0, 0.0, 0.0, 0.0, 0.0, 0.0, 0.0, 0.0, 0.0, 0.0, 0.0, 0.0, 0.0, 0.0, 0.0], [0.0, 0.0, 0.0, 0.0, 0.0, 0.0, 0.0, 0.0, 0.0, 0.0, 0.0, 0.0, 0.0, 0.0, 0.0, 0.0, 0.0, 0.0, 0.0, 0.0, 0.0, 0.0, 1.0, 0.0, 0.0, 0.0, 0.0, 0.0, 0.0, 0.0, 0.0, 0.0, 0.0, 0.0, 0.0, 0.0, 0.0, 0.0, 0.0, 0.0, 0.0, 0.0, 0.0, 0.0, 0.0, 0.0, 0.0, 0.0, 0.0, 0.0, 0.0, 0.0, 0.0, 0.0, 0.0, 0.0, 0.0, 0.0, 0.0, 0.0, 0.0, 0.0, 0.0, 0.0, 0.0, 0.0, 0.0, 0.0, 0.0, 0.0, 0.0, 0.0, 0.0, 0.0, 0.0, 0.0, 0.0, 0.0, 0.0, 0.0, 0.0, 0.0, 0.0, 0.0, 0.0, 0.0, 0.0, 0.0, 0.0, 0.0, 0.0, 0.0, 0.0, 0.0, 0.0, 0.0, 0.0, 0.0, 0.0, 0.0, 0.0, 0.0, 0.0, 0.0, 0.0, 0.0, 0.0, 0.0, 0.0, 0.0, 0.0, 0.0, 0.0, 0.0, 0.0, 0.0, 0.0, 0.0, 0.0, 0.0, 0.0, 0.0, 0.0, 0.0, 0.0, 0.0, 0.0, 0.0, 0.0, 0.0, 0.0, 0.0, 0.0, 0.0, 0.0, 0.0, 0.0, 0.0, 0.0, 0.0, 0.0, 0.0, 0.0, 0.0, 0.0, 0.0, 0.0, 0.0, 0.0, 0.0, 0.0, 0.0, 0.0, 0.0, 0.0, 0.0, 0.0, 0.0, 0.0, 0.0, 0.0, 0.0, 0.0, 0.0, 0.0, 0.0, 0.0, 0.0, 0.0, 0.0, 0.0, 0.0, 0.0, 0.0, 0.0, 0.0, 0.0, 0.0, 0.0, 0.0, 0.0, 0.0, 0.0, 0.0, 0.0, 0.0, 0.0, 0.0, 0.0, 0.0, 0.0, 0.0, 0.0, 0.0, 0.0, 0.0, 0.0, 0.0, 0.0, 0.0, 0.0, 0.0, 0.0, 0.0, 0.0, 0.0, 0.0, 0.0, 0.0, 0.0, 0.0, 0.0, 0.0, 0.0, 0.0, 0.0, 0.0, 0.0, 0.0, 0.0, 0.0, 0.0, 0.0, 0.0, 0.0, 0.0, 0.0, 0.0, 0.0, 0.0, 0.0, 0.0, 0.0, 0.0, 0.0, 0.0, 0.0, 0.0, 0.0, 0.0, 0.0, 0.0, 0.0, 0.0, 0.0, 0.0, 0.0, 0.0, 0.0, 0.0, 0.0, 0.0, 0.0, 0.0, 0.0, 0.0, 0.0, 0.0, 0.0, 0.0, 0.0, 0.0, 0.0, 0.0, 0.0, 0.0, 0.0, 0.0, 0.0, 0.0, 0.0, 0.0, 0.0, 0.0, 0.0, 0.0, 0.0, 0.0, 0.0, 0.0, 0.0, 0.0, 0.0, 0.0, 0.0, 0.0, 0.0, 0.0, 0.0, 0.0, 0.0, 0.0, 0.0, 0.0, 0.0, 0.0, 0.0, 0.0, 0.0, 0.0, 0.0, 0.0, 0.0, 0.0, 0.0, 0.0, 0.0, 0.0, 0.0, 0.0, 0.0, 0.0, 0.0, 0.0, 0.0, 0.0, 0.0, 0.0, 0.0, 0.0, 0.0, 0.0, 0.0, 0.0, 0.0, 0.0, 0.0, 0.0, 0.0, 0.0, 0.0, 0.0, 0.0, 0.0, 0.0, 0.0, 0.0, 0.0, 0.0, 0.0, 0.0, 0.0, 0.0, 0.0, 0.0, 0.0, 0.0, 0.0, 0.0, 0.0, 0.0, 0.0, 0.0, 0.0, 0.0, 0.0, 0.0, 0.0, 0.0, 0.0, 0.0, 0.0, 0.0, 0.0, 0.0, 0.0, 0.0, 0.0, 0.0, 0.0, 0.0, 0.0, 0.0, 0.0, 0.0, 0.0, 0.0, 0.0, 0.0, 0.0, 0.0, 0.0, 1.0, 0.0, 0.0, 0.0, 0.0, 0.0, 0.0, 0.0, 0.0, 0.0, 0.0, 0.0, 1.0, 0.0, 0.0, 0.0, 0.0, 0.0, 0.0, 0.0, 0.0, 0.0, 0.0, 1.0, 0.0, 0.0, 0.0, 0.0, 0.0, 0.0, 0.0, 0.0, 1.0, 0.0, 0.0, 0.0, 0.0, 0.0, 0.0, 0.0, 0.0, 0.0, 0.0, 0.0, 0.0, 0.0, 0.0, 0.0, 0.0, 0.0, 0.0, 0.0, 0.0, 0.0, 0.0, 0.0, 0.0, 0.0, 60.0, 10.0, 1.0, 0.0, 0.0, 1.0, 0.0, 0.0, 0.0, 0.0, 0.0, 0.0, 0.0, 0.0, 0.0, 0.0, 0.0, 0.0, 0.0, 0.0, 0.0, 0.0, 0.0, 0.0, 0.0, 0.0, 0.0, 0.0, 0.0, 0.0, 0.0, 0.0, 0.0, 0.0, 0.0, 0.0, 1.0, 0.0, 0.0, 0.0, 0.0, 0.0, 0.0, 0.0, 0.0, 0.0, 0.0, 0.0, 0.0, 0.0, 0.0, 0.0, 0.0, 0.0, 0.0, 0.0, 0.0, 0.0, 0.0, 0.0, 0.0, 0.0, 0.0, 0.0, 0.0], 7.046885483319471]]\n",
      "}\n"
     ]
    }
   ],
   "source": [
    "scoring_href = 'https://internal-nginx-svc.ibm-private-cloud.svc.cluster.local:12443/v2/scoring/online/79a22c1b-8d60-4e6a-bd4b-59a760f8716d'\n",
    "header = {'Content-Type': 'application/json',\"name\":\"Rushing\"}\n",
    "new = json.dumps(payload_scoring)\n",
    "res = requests.post(scoring_href,headers=header,json=payload_scoring)\n",
    "\n",
    "print res.text"
   ]
  },
  {
   "cell_type": "code",
   "execution_count": null,
   "metadata": {
    "collapsed": true
   },
   "outputs": [],
   "source": []
  }
 ],
 "metadata": {
  "kernelspec": {
   "display_name": "Python2 with DSX Spark",
   "language": "python",
   "name": "python2"
  },
  "language_info": {
   "codemirror_mode": {
    "name": "ipython",
    "version": 2
   },
   "file_extension": ".py",
   "mimetype": "text/x-python",
   "name": "python",
   "nbconvert_exporter": "python",
   "pygments_lexer": "ipython2",
   "version": "2.7.13"
  }
 },
 "nbformat": 4,
 "nbformat_minor": 1
}
